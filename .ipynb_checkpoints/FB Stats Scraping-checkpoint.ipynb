{
 "cells": [
  {
   "cell_type": "code",
   "execution_count": 4,
   "metadata": {},
   "outputs": [],
   "source": [
    "import selenium\n",
    "from selenium import webdriver"
   ]
  },
  {
   "cell_type": "code",
   "execution_count": 8,
   "metadata": {},
   "outputs": [],
   "source": [
    "DRIVER_PATH = \"C:/Users\\syber\\Desktop\\Python Files\\Football Stats Web Scraping\\chromedriver_win32\\chromedriver.exe\""
   ]
  },
  {
   "cell_type": "code",
   "execution_count": 15,
   "metadata": {},
   "outputs": [],
   "source": [
    "wd = webdriver.Chrome(executable_path=DRIVER_PATH)"
   ]
  },
  {
   "cell_type": "code",
   "execution_count": 18,
   "metadata": {},
   "outputs": [],
   "source": [
    "wd.quit()"
   ]
  },
  {
   "cell_type": "code",
   "execution_count": 4,
   "metadata": {},
   "outputs": [],
   "source": [
    "wd.get(\"https://www.transfermarkt.co.uk/premier-league/startseite/wettbewerb/GB1\")"
   ]
  },
  {
   "cell_type": "code",
   "execution_count": 14,
   "metadata": {},
   "outputs": [
    {
     "ename": "NoSuchElementException",
     "evalue": "Message: no such element: Unable to locate element: {\"method\":\"xpath\",\"selector\":\"//a[contains(@class,'vereinprofil_tooltip.tooltipstered')]\"}\n  (Session info: chrome=89.0.4389.90)\n",
     "output_type": "error",
     "traceback": [
      "\u001b[1;31m---------------------------------------------------------------------------\u001b[0m",
      "\u001b[1;31mNoSuchElementException\u001b[0m                    Traceback (most recent call last)",
      "\u001b[1;32m<ipython-input-14-9e94ce4198db>\u001b[0m in \u001b[0;36m<module>\u001b[1;34m\u001b[0m\n\u001b[1;32m----> 1\u001b[1;33m \u001b[0mimg_results\u001b[0m \u001b[1;33m=\u001b[0m \u001b[0mwd\u001b[0m\u001b[1;33m.\u001b[0m\u001b[0mfind_element_by_xpath\u001b[0m\u001b[1;33m(\u001b[0m\u001b[1;34m\"//a[contains(@class,'vereinprofil_tooltip.tooltipstered')]\"\u001b[0m\u001b[1;33m)\u001b[0m\u001b[1;33m\u001b[0m\u001b[1;33m\u001b[0m\u001b[0m\n\u001b[0m",
      "\u001b[1;32mD:\\Anaconda3\\lib\\site-packages\\selenium\\webdriver\\remote\\webdriver.py\u001b[0m in \u001b[0;36mfind_element_by_xpath\u001b[1;34m(self, xpath)\u001b[0m\n\u001b[0;32m    392\u001b[0m             \u001b[0melement\u001b[0m \u001b[1;33m=\u001b[0m \u001b[0mdriver\u001b[0m\u001b[1;33m.\u001b[0m\u001b[0mfind_element_by_xpath\u001b[0m\u001b[1;33m(\u001b[0m\u001b[1;34m'//div/td[1]'\u001b[0m\u001b[1;33m)\u001b[0m\u001b[1;33m\u001b[0m\u001b[1;33m\u001b[0m\u001b[0m\n\u001b[0;32m    393\u001b[0m         \"\"\"\n\u001b[1;32m--> 394\u001b[1;33m         \u001b[1;32mreturn\u001b[0m \u001b[0mself\u001b[0m\u001b[1;33m.\u001b[0m\u001b[0mfind_element\u001b[0m\u001b[1;33m(\u001b[0m\u001b[0mby\u001b[0m\u001b[1;33m=\u001b[0m\u001b[0mBy\u001b[0m\u001b[1;33m.\u001b[0m\u001b[0mXPATH\u001b[0m\u001b[1;33m,\u001b[0m \u001b[0mvalue\u001b[0m\u001b[1;33m=\u001b[0m\u001b[0mxpath\u001b[0m\u001b[1;33m)\u001b[0m\u001b[1;33m\u001b[0m\u001b[1;33m\u001b[0m\u001b[0m\n\u001b[0m\u001b[0;32m    395\u001b[0m \u001b[1;33m\u001b[0m\u001b[0m\n\u001b[0;32m    396\u001b[0m     \u001b[1;32mdef\u001b[0m \u001b[0mfind_elements_by_xpath\u001b[0m\u001b[1;33m(\u001b[0m\u001b[0mself\u001b[0m\u001b[1;33m,\u001b[0m \u001b[0mxpath\u001b[0m\u001b[1;33m)\u001b[0m\u001b[1;33m:\u001b[0m\u001b[1;33m\u001b[0m\u001b[1;33m\u001b[0m\u001b[0m\n",
      "\u001b[1;32mD:\\Anaconda3\\lib\\site-packages\\selenium\\webdriver\\remote\\webdriver.py\u001b[0m in \u001b[0;36mfind_element\u001b[1;34m(self, by, value)\u001b[0m\n\u001b[0;32m    976\u001b[0m         return self.execute(Command.FIND_ELEMENT, {\n\u001b[0;32m    977\u001b[0m             \u001b[1;34m'using'\u001b[0m\u001b[1;33m:\u001b[0m \u001b[0mby\u001b[0m\u001b[1;33m,\u001b[0m\u001b[1;33m\u001b[0m\u001b[1;33m\u001b[0m\u001b[0m\n\u001b[1;32m--> 978\u001b[1;33m             'value': value})['value']\n\u001b[0m\u001b[0;32m    979\u001b[0m \u001b[1;33m\u001b[0m\u001b[0m\n\u001b[0;32m    980\u001b[0m     \u001b[1;32mdef\u001b[0m \u001b[0mfind_elements\u001b[0m\u001b[1;33m(\u001b[0m\u001b[0mself\u001b[0m\u001b[1;33m,\u001b[0m \u001b[0mby\u001b[0m\u001b[1;33m=\u001b[0m\u001b[0mBy\u001b[0m\u001b[1;33m.\u001b[0m\u001b[0mID\u001b[0m\u001b[1;33m,\u001b[0m \u001b[0mvalue\u001b[0m\u001b[1;33m=\u001b[0m\u001b[1;32mNone\u001b[0m\u001b[1;33m)\u001b[0m\u001b[1;33m:\u001b[0m\u001b[1;33m\u001b[0m\u001b[1;33m\u001b[0m\u001b[0m\n",
      "\u001b[1;32mD:\\Anaconda3\\lib\\site-packages\\selenium\\webdriver\\remote\\webdriver.py\u001b[0m in \u001b[0;36mexecute\u001b[1;34m(self, driver_command, params)\u001b[0m\n\u001b[0;32m    319\u001b[0m         \u001b[0mresponse\u001b[0m \u001b[1;33m=\u001b[0m \u001b[0mself\u001b[0m\u001b[1;33m.\u001b[0m\u001b[0mcommand_executor\u001b[0m\u001b[1;33m.\u001b[0m\u001b[0mexecute\u001b[0m\u001b[1;33m(\u001b[0m\u001b[0mdriver_command\u001b[0m\u001b[1;33m,\u001b[0m \u001b[0mparams\u001b[0m\u001b[1;33m)\u001b[0m\u001b[1;33m\u001b[0m\u001b[1;33m\u001b[0m\u001b[0m\n\u001b[0;32m    320\u001b[0m         \u001b[1;32mif\u001b[0m \u001b[0mresponse\u001b[0m\u001b[1;33m:\u001b[0m\u001b[1;33m\u001b[0m\u001b[1;33m\u001b[0m\u001b[0m\n\u001b[1;32m--> 321\u001b[1;33m             \u001b[0mself\u001b[0m\u001b[1;33m.\u001b[0m\u001b[0merror_handler\u001b[0m\u001b[1;33m.\u001b[0m\u001b[0mcheck_response\u001b[0m\u001b[1;33m(\u001b[0m\u001b[0mresponse\u001b[0m\u001b[1;33m)\u001b[0m\u001b[1;33m\u001b[0m\u001b[1;33m\u001b[0m\u001b[0m\n\u001b[0m\u001b[0;32m    322\u001b[0m             response['value'] = self._unwrap_value(\n\u001b[0;32m    323\u001b[0m                 response.get('value', None))\n",
      "\u001b[1;32mD:\\Anaconda3\\lib\\site-packages\\selenium\\webdriver\\remote\\errorhandler.py\u001b[0m in \u001b[0;36mcheck_response\u001b[1;34m(self, response)\u001b[0m\n\u001b[0;32m    240\u001b[0m                 \u001b[0malert_text\u001b[0m \u001b[1;33m=\u001b[0m \u001b[0mvalue\u001b[0m\u001b[1;33m[\u001b[0m\u001b[1;34m'alert'\u001b[0m\u001b[1;33m]\u001b[0m\u001b[1;33m.\u001b[0m\u001b[0mget\u001b[0m\u001b[1;33m(\u001b[0m\u001b[1;34m'text'\u001b[0m\u001b[1;33m)\u001b[0m\u001b[1;33m\u001b[0m\u001b[1;33m\u001b[0m\u001b[0m\n\u001b[0;32m    241\u001b[0m             \u001b[1;32mraise\u001b[0m \u001b[0mexception_class\u001b[0m\u001b[1;33m(\u001b[0m\u001b[0mmessage\u001b[0m\u001b[1;33m,\u001b[0m \u001b[0mscreen\u001b[0m\u001b[1;33m,\u001b[0m \u001b[0mstacktrace\u001b[0m\u001b[1;33m,\u001b[0m \u001b[0malert_text\u001b[0m\u001b[1;33m)\u001b[0m\u001b[1;33m\u001b[0m\u001b[1;33m\u001b[0m\u001b[0m\n\u001b[1;32m--> 242\u001b[1;33m         \u001b[1;32mraise\u001b[0m \u001b[0mexception_class\u001b[0m\u001b[1;33m(\u001b[0m\u001b[0mmessage\u001b[0m\u001b[1;33m,\u001b[0m \u001b[0mscreen\u001b[0m\u001b[1;33m,\u001b[0m \u001b[0mstacktrace\u001b[0m\u001b[1;33m)\u001b[0m\u001b[1;33m\u001b[0m\u001b[1;33m\u001b[0m\u001b[0m\n\u001b[0m\u001b[0;32m    243\u001b[0m \u001b[1;33m\u001b[0m\u001b[0m\n\u001b[0;32m    244\u001b[0m     \u001b[1;32mdef\u001b[0m \u001b[0m_value_or_default\u001b[0m\u001b[1;33m(\u001b[0m\u001b[0mself\u001b[0m\u001b[1;33m,\u001b[0m \u001b[0mobj\u001b[0m\u001b[1;33m,\u001b[0m \u001b[0mkey\u001b[0m\u001b[1;33m,\u001b[0m \u001b[0mdefault\u001b[0m\u001b[1;33m)\u001b[0m\u001b[1;33m:\u001b[0m\u001b[1;33m\u001b[0m\u001b[1;33m\u001b[0m\u001b[0m\n",
      "\u001b[1;31mNoSuchElementException\u001b[0m: Message: no such element: Unable to locate element: {\"method\":\"xpath\",\"selector\":\"//a[contains(@class,'vereinprofil_tooltip.tooltipstered')]\"}\n  (Session info: chrome=89.0.4389.90)\n"
     ]
    }
   ],
   "source": [
    "img_results = wd.find_element_by_xpath(\"//a[contains(@class,'vereinprofil_tooltip.tooltipstered')]\")"
   ]
  },
  {
   "cell_type": "code",
   "execution_count": 5,
   "metadata": {},
   "outputs": [],
   "source": [
    "def Start_Browser(url):\n",
    "    DRIVER_PATH = \"C:/Users\\syber\\Desktop\\Python Files\\Football Stats Web Scraping\\chromedriver_win32\\chromedriver.exe\"\n",
    "    wd = webdriver.Chrome(executable_path=DRIVER_PATH)\n",
    "    wd.get(str(url))\n",
    "    return wd"
   ]
  },
  {
   "cell_type": "code",
   "execution_count": 6,
   "metadata": {},
   "outputs": [],
   "source": [
    "import selenium\n",
    "from selenium import webdriver"
   ]
  },
  {
   "cell_type": "code",
   "execution_count": 7,
   "metadata": {},
   "outputs": [],
   "source": [
    "url = \"https://www.transfermarkt.co.uk/premier-league/startseite/wettbewerb/GB1\""
   ]
  },
  {
   "cell_type": "code",
   "execution_count": 8,
   "metadata": {},
   "outputs": [],
   "source": [
    "wd = Start_Browser(url)"
   ]
  },
  {
   "cell_type": "code",
   "execution_count": 11,
   "metadata": {},
   "outputs": [],
   "source": [
    "data = wd.find_element_by_css_selector(\"div.responsive-table div.grid-view table.items tbody\")"
   ]
  },
  {
   "cell_type": "code",
   "execution_count": 12,
   "metadata": {},
   "outputs": [
    {
     "name": "stdout",
     "output_type": "stream",
     "text": [
      "<selenium.webdriver.remote.webelement.WebElement (session=\"441be27b96e40138fb3b7a41dc69cd6c\", element=\"500449dc-46e7-485f-8067-72b26d1343d3\")>\n"
     ]
    }
   ],
   "source": [
    "print(data)"
   ]
  },
  {
   "cell_type": "code",
   "execution_count": 29,
   "metadata": {},
   "outputs": [],
   "source": [
    "names = []"
   ]
  },
  {
   "cell_type": "code",
   "execution_count": 23,
   "metadata": {},
   "outputs": [],
   "source": [
    "rows = data.find_element_by_css_selector(\"tr.odd td.hauptlink.no-border-links.show-for-small.show-for-pad\")"
   ]
  },
  {
   "cell_type": "code",
   "execution_count": 25,
   "metadata": {},
   "outputs": [
    {
     "data": {
      "text/plain": [
       "<selenium.webdriver.remote.webelement.WebElement (session=\"441be27b96e40138fb3b7a41dc69cd6c\", element=\"27f43dac-aea1-46e7-87a7-31efbd0b831c\")>"
      ]
     },
     "execution_count": 25,
     "metadata": {},
     "output_type": "execute_result"
    }
   ],
   "source": []
  },
  {
   "cell_type": "code",
   "execution_count": 26,
   "metadata": {},
   "outputs": [
    {
     "data": {
      "text/plain": [
       "'Man City'"
      ]
     },
     "execution_count": 26,
     "metadata": {},
     "output_type": "execute_result"
    }
   ],
   "source": [
    "rows.text"
   ]
  },
  {
   "cell_type": "code",
   "execution_count": 27,
   "metadata": {},
   "outputs": [],
   "source": [
    "rows = data.find_elements_by_css_selector(\"tr.odd td.hauptlink.no-border-links.show-for-small.show-for-pad\")"
   ]
  },
  {
   "cell_type": "code",
   "execution_count": 28,
   "metadata": {},
   "outputs": [
    {
     "data": {
      "text/plain": [
       "10"
      ]
     },
     "execution_count": 28,
     "metadata": {},
     "output_type": "execute_result"
    }
   ],
   "source": [
    "len(rows)"
   ]
  },
  {
   "cell_type": "code",
   "execution_count": 30,
   "metadata": {},
   "outputs": [],
   "source": [
    "for stat in rows:\n",
    "    names.append(stat.text)"
   ]
  },
  {
   "cell_type": "code",
   "execution_count": 31,
   "metadata": {},
   "outputs": [
    {
     "name": "stdout",
     "output_type": "stream",
     "text": [
      "['Man City', 'Chelsea', 'Spurs', 'Leicester', 'Wolves', 'West Ham', 'Southampton', 'Fulham', 'Crystal Palace', 'Burnley']\n"
     ]
    }
   ],
   "source": [
    "print(names)"
   ]
  },
  {
   "cell_type": "code",
   "execution_count": null,
   "metadata": {},
   "outputs": [],
   "source": []
  },
  {
   "cell_type": "code",
   "execution_count": null,
   "metadata": {},
   "outputs": [],
   "source": []
  },
  {
   "cell_type": "code",
   "execution_count": 32,
   "metadata": {},
   "outputs": [],
   "source": [
    "table_data = wd.find_element_by_css_selector(\"div.responsive-table div.grid-view table.items tbody\")"
   ]
  },
  {
   "cell_type": "code",
   "execution_count": 37,
   "metadata": {},
   "outputs": [],
   "source": [
    "odd_rows = table_data.find_elements_by_css_selector(\"tr.odd td.hauptlink.no-border-links.show-for-small.show-for-pad a.vereinprofil_tooltip.tooltipstered\")"
   ]
  },
  {
   "cell_type": "code",
   "execution_count": 38,
   "metadata": {},
   "outputs": [],
   "source": [
    "even_rows = table_data.find_elements_by_css_selector(\"tr.even td.hauptlink.no-border-links.show-for-small.show-for-pad a.vereinprofil_tooltip.tooltipstered\")"
   ]
  },
  {
   "cell_type": "code",
   "execution_count": 41,
   "metadata": {},
   "outputs": [],
   "source": [
    "wd.quit()"
   ]
  },
  {
   "cell_type": "code",
   "execution_count": null,
   "metadata": {},
   "outputs": [],
   "source": []
  },
  {
   "cell_type": "code",
   "execution_count": null,
   "metadata": {},
   "outputs": [],
   "source": []
  },
  {
   "cell_type": "code",
   "execution_count": null,
   "metadata": {},
   "outputs": [],
   "source": []
  },
  {
   "cell_type": "code",
   "execution_count": null,
   "metadata": {},
   "outputs": [],
   "source": []
  },
  {
   "cell_type": "code",
   "execution_count": null,
   "metadata": {},
   "outputs": [],
   "source": []
  },
  {
   "cell_type": "code",
   "execution_count": null,
   "metadata": {},
   "outputs": [],
   "source": []
  },
  {
   "cell_type": "code",
   "execution_count": null,
   "metadata": {},
   "outputs": [],
   "source": []
  },
  {
   "cell_type": "code",
   "execution_count": null,
   "metadata": {},
   "outputs": [],
   "source": []
  },
  {
   "cell_type": "code",
   "execution_count": 1,
   "metadata": {},
   "outputs": [],
   "source": [
    "import selenium\n",
    "from selenium import webdriver\n",
    "import pandas as pd\n",
    "import time"
   ]
  },
  {
   "cell_type": "code",
   "execution_count": 2,
   "metadata": {},
   "outputs": [],
   "source": [
    "def start_browser(url):\n",
    "    DRIVER_PATH = \"C:/Users\\syber\\Desktop\\Python Files\\Football Stats Web Scraping\\chromedriver_win32\\chromedriver.exe\"\n",
    "    wd = webdriver.Chrome(executable_path=DRIVER_PATH)\n",
    "    wd.get(str(url))\n",
    "    return wd"
   ]
  },
  {
   "cell_type": "code",
   "execution_count": 3,
   "metadata": {},
   "outputs": [],
   "source": [
    "url = \"https://www.transfermarkt.co.uk/laliga/marktwerteverein/wettbewerb/ES1/plus/?stichtag=20{}-02-01\""
   ]
  },
  {
   "cell_type": "code",
   "execution_count": 7,
   "metadata": {},
   "outputs": [],
   "source": [
    "wd = start_browser(url.format(11))"
   ]
  },
  {
   "cell_type": "code",
   "execution_count": 58,
   "metadata": {},
   "outputs": [],
   "source": [
    "wd.quit()"
   ]
  },
  {
   "cell_type": "code",
   "execution_count": 4,
   "metadata": {},
   "outputs": [],
   "source": [
    "names_css_selector = \"div.row div.large-8.columns div.box div.responsive-table div.grid-view table.items tbody tr.{} td.hauptlink.no-border-links a\""
   ]
  },
  {
   "cell_type": "code",
   "execution_count": 5,
   "metadata": {},
   "outputs": [],
   "source": [
    "def get_names(wd,names_css_selector):\n",
    "    names = []\n",
    "    for s in [\"odd\",\"even\"]:\n",
    "        rows = wd.find_elements_by_css_selector(names_css_selector.format(s))\n",
    "        for row in rows:\n",
    "            names.append(row.text)\n",
    "    return names"
   ]
  },
  {
   "cell_type": "code",
   "execution_count": 9,
   "metadata": {},
   "outputs": [],
   "source": [
    "names = get_names(wd,names_css_selector)"
   ]
  },
  {
   "cell_type": "code",
   "execution_count": 10,
   "metadata": {},
   "outputs": [
    {
     "data": {
      "text/plain": [
       "20"
      ]
     },
     "execution_count": 10,
     "metadata": {},
     "output_type": "execute_result"
    }
   ],
   "source": [
    "len(names)"
   ]
  },
  {
   "cell_type": "code",
   "execution_count": 11,
   "metadata": {},
   "outputs": [
    {
     "name": "stdout",
     "output_type": "stream",
     "text": [
      "['FC Barcelona', 'Real Madrid', 'Real Sociedad', 'Valencia CF', 'Real Betis Balompié', 'Celta de Vigo', 'Levante UD', 'Deportivo Alavés', 'Real Valladolid CF', 'Elche CF', 'Atlético Madrid', 'Sevilla FC', 'Villarreal CF', 'Athletic Bilbao', 'Getafe CF', 'Granada CF', 'CA Osasuna', 'SD Eibar', 'SD Huesca', 'Cádiz CF']\n"
     ]
    }
   ],
   "source": [
    "print(names)"
   ]
  },
  {
   "cell_type": "code",
   "execution_count": null,
   "metadata": {},
   "outputs": [],
   "source": [
    "df = pd.DataFrame(columns=[\"Club\",\"Value2011\",\"Value 2012\",\"Value 2013\",\"Value 2014\",\"Value 2015\",\"Value 2016\",\"Value 2017\",\"Value 2018\",\"Value 2019\",\"Value 2020\"])"
   ]
  },
  {
   "cell_type": "code",
   "execution_count": null,
   "metadata": {},
   "outputs": [],
   "source": []
  },
  {
   "cell_type": "code",
   "execution_count": 54,
   "metadata": {},
   "outputs": [],
   "source": [
    "values_css_selector = \"div.row div.large-8.columns div.box div.responsive-table div.grid-view table.items tbody tr.{} td.rechts a\""
   ]
  },
  {
   "cell_type": "code",
   "execution_count": 50,
   "metadata": {},
   "outputs": [],
   "source": [
    "values_xpath = \"//div[@class='row'] //div[@class='large-8 columns'] //div[@class='box'] //div[@class='responsive-table'] //div[@class='grid-view'] //table[@class='items'] //tbody //tr[@class='{}'] //td[@class='rechts'] //a\""
   ]
  },
  {
   "cell_type": "code",
   "execution_count": 51,
   "metadata": {},
   "outputs": [],
   "source": [
    "def get_values(wd,values_xpath):\n",
    "    values = []\n",
    "    for s in ['odd','even']:\n",
    "        rows = wd.find_elements_by_xpath(values_xpath.format(s))\n",
    "        for row in rows:\n",
    "            values.append(row.text)\n",
    "    return values"
   ]
  },
  {
   "cell_type": "code",
   "execution_count": 55,
   "metadata": {},
   "outputs": [],
   "source": [
    "values = get_values(wd,values_xpath)"
   ]
  },
  {
   "cell_type": "code",
   "execution_count": 56,
   "metadata": {},
   "outputs": [
    {
     "data": {
      "text/plain": [
       "20"
      ]
     },
     "execution_count": 56,
     "metadata": {},
     "output_type": "execute_result"
    }
   ],
   "source": [
    "len(values)"
   ]
  },
  {
   "cell_type": "code",
   "execution_count": 34,
   "metadata": {},
   "outputs": [],
   "source": [
    "df[\"Club\"] = names"
   ]
  },
  {
   "cell_type": "code",
   "execution_count": 57,
   "metadata": {},
   "outputs": [
    {
     "name": "stdout",
     "output_type": "stream",
     "text": [
      "['£491.04m', '£484.20m', '£57.69m', '£153.00m', '£36.45m', '£17.55m', '£32.94m', '-', '£27.77m', '£15.12m', '£154.35m', '£160.29m', '£124.65m', '£100.62m', '£62.73m', '£14.58m', '£46.71m', '£630Th.', '£9.45m', '-']\n"
     ]
    }
   ],
   "source": [
    "print(values)"
   ]
  },
  {
   "cell_type": "code",
   "execution_count": 22,
   "metadata": {},
   "outputs": [],
   "source": [
    "rows = wd.find_elements_by_css_selector(values_css_selector.format(\"odd\"))"
   ]
  },
  {
   "cell_type": "code",
   "execution_count": 23,
   "metadata": {},
   "outputs": [
    {
     "data": {
      "text/plain": [
       "30"
      ]
     },
     "execution_count": 23,
     "metadata": {},
     "output_type": "execute_result"
    }
   ],
   "source": [
    "len(rows)"
   ]
  },
  {
   "cell_type": "code",
   "execution_count": 25,
   "metadata": {},
   "outputs": [],
   "source": [
    "values = []"
   ]
  },
  {
   "cell_type": "code",
   "execution_count": 26,
   "metadata": {},
   "outputs": [],
   "source": [
    "for row in rows:\n",
    "    values.append(row.text)"
   ]
  },
  {
   "cell_type": "code",
   "execution_count": 27,
   "metadata": {},
   "outputs": [
    {
     "data": {
      "text/plain": [
       "30"
      ]
     },
     "execution_count": 27,
     "metadata": {},
     "output_type": "execute_result"
    }
   ],
   "source": [
    "len(values)"
   ]
  },
  {
   "cell_type": "code",
   "execution_count": 29,
   "metadata": {},
   "outputs": [
    {
     "data": {
      "text/plain": [
       "['£491.04m',\n",
       " '',\n",
       " '£740.70m',\n",
       " '£484.20m',\n",
       " '',\n",
       " '£670.95m',\n",
       " '£57.69m',\n",
       " '',\n",
       " '£311.31m',\n",
       " '£153.00m',\n",
       " '',\n",
       " '£222.03m',\n",
       " '£36.45m',\n",
       " '',\n",
       " '£179.46m',\n",
       " '£17.55m',\n",
       " '',\n",
       " '£116.28m',\n",
       " '£32.94m',\n",
       " '',\n",
       " '£96.75m',\n",
       " '-',\n",
       " '',\n",
       " '£67.50m',\n",
       " '£27.77m',\n",
       " '',\n",
       " '£58.23m',\n",
       " '£15.12m',\n",
       " '',\n",
       " '£37.08m']"
      ]
     },
     "execution_count": 29,
     "metadata": {},
     "output_type": "execute_result"
    }
   ],
   "source": [
    "values"
   ]
  },
  {
   "cell_type": "code",
   "execution_count": null,
   "metadata": {},
   "outputs": [],
   "source": []
  },
  {
   "cell_type": "code",
   "execution_count": null,
   "metadata": {},
   "outputs": [],
   "source": []
  },
  {
   "cell_type": "code",
   "execution_count": 60,
   "metadata": {},
   "outputs": [],
   "source": [
    "def scrape(url,names_css_selector,values_css_selector,year):\n",
    "    wd = start_browser(url.format(year))\n",
    "    names = get_names(wd,names_css_selector)\n",
    "    values = get_values(wd,values_xpath)\n",
    "    wd.quit()\n",
    "    return names,values"
   ]
  },
  {
   "cell_type": "code",
   "execution_count": 62,
   "metadata": {},
   "outputs": [],
   "source": [
    "url = \"https://www.transfermarkt.co.uk/laliga/marktwerteverein/wettbewerb/ES1/plus/?stichtag=20{}-02-01\"\n",
    "values_xpath = \"//div[@class='row'] //div[@class='large-8 columns'] //div[@class='box'] //div[@class='responsive-table'] //div[@class='grid-view'] //table[@class='items'] //tbody //tr[@class='{}'] //td[@class='rechts'] //a\"\n",
    "names_css_selector = \"div.row div.large-8.columns div.box div.responsive-table div.grid-view table.items tbody tr.{} td.hauptlink.no-border-links a\"\n",
    "year = 11\n",
    "\n",
    "names,values = scrape(url,names_css_selector,values_xpath,year)"
   ]
  },
  {
   "cell_type": "code",
   "execution_count": 64,
   "metadata": {},
   "outputs": [
    {
     "data": {
      "text/plain": [
       "20"
      ]
     },
     "execution_count": 64,
     "metadata": {},
     "output_type": "execute_result"
    }
   ],
   "source": [
    "len(names)"
   ]
  },
  {
   "cell_type": "code",
   "execution_count": 65,
   "metadata": {},
   "outputs": [
    {
     "data": {
      "text/plain": [
       "20"
      ]
     },
     "execution_count": 65,
     "metadata": {},
     "output_type": "execute_result"
    }
   ],
   "source": [
    "len(values)"
   ]
  },
  {
   "cell_type": "code",
   "execution_count": null,
   "metadata": {},
   "outputs": [],
   "source": []
  },
  {
   "cell_type": "code",
   "execution_count": null,
   "metadata": {},
   "outputs": [],
   "source": []
  },
  {
   "cell_type": "code",
   "execution_count": null,
   "metadata": {},
   "outputs": [],
   "source": []
  },
  {
   "cell_type": "code",
   "execution_count": null,
   "metadata": {},
   "outputs": [],
   "source": []
  },
  {
   "cell_type": "code",
   "execution_count": null,
   "metadata": {},
   "outputs": [],
   "source": []
  },
  {
   "cell_type": "code",
   "execution_count": null,
   "metadata": {},
   "outputs": [],
   "source": []
  },
  {
   "cell_type": "code",
   "execution_count": 1,
   "metadata": {},
   "outputs": [],
   "source": [
    "import selenium\n",
    "from selenium import webdriver\n",
    "import pandas as pd\n",
    "import time"
   ]
  },
  {
   "cell_type": "code",
   "execution_count": 2,
   "metadata": {},
   "outputs": [],
   "source": [
    "def start_browser(url):\n",
    "    DRIVER_PATH = \"C:/Users\\syber\\Desktop\\Python Files\\Football Stats Web Scraping\\chromedriver_win32\\chromedriver.exe\"\n",
    "    wd = webdriver.Chrome(executable_path=DRIVER_PATH)\n",
    "    wd.get(str(url))\n",
    "    return wd"
   ]
  },
  {
   "cell_type": "code",
   "execution_count": 3,
   "metadata": {},
   "outputs": [],
   "source": [
    "def get_names(wd,names_css_selector):\n",
    "    names = []\n",
    "    for s in ['odd','even']:\n",
    "        rows = wd.find_elements_by_css_selector(names_css_selector.format(s))\n",
    "        for row in rows:\n",
    "            names.append(row.text)\n",
    "    \n",
    "    new_names = []\n",
    "    for i in range(len(names)):\n",
    "        if names[i] != \"\":\n",
    "            new_names.append(names[i])\n",
    "\n",
    "    return new_names"
   ]
  },
  {
   "cell_type": "code",
   "execution_count": 4,
   "metadata": {},
   "outputs": [],
   "source": [
    "def get_values(wd,values_xpath):\n",
    "    values = []\n",
    "    for s in ['odd','even']:\n",
    "        rows = wd.find_elements_by_xpath(values_xpath.format(s))\n",
    "        for row in rows:\n",
    "            values.append(row.text)\n",
    "    \n",
    "    new_values = []\n",
    "    for val in values:\n",
    "        lst_val = list(val)\n",
    "        new_lst_val = []\n",
    "        for digit in lst_val:\n",
    "            if digit != '£' and digit != 'm':\n",
    "                new_lst_val.append(digit)\n",
    "        new_values.append(\"\".join(new_lst_val))\n",
    "    \n",
    "    return new_values"
   ]
  },
  {
   "cell_type": "code",
   "execution_count": 5,
   "metadata": {},
   "outputs": [],
   "source": [
    "def values_scrape(url,names_css_selector,values_xpath,year):\n",
    "    wd = start_browser(url.format(year))\n",
    "    names = get_names(wd,names_css_selector)\n",
    "    values = get_values(wd,values_xpath)\n",
    "    wd.quit()\n",
    "        \n",
    "    return names,values"
   ]
  },
  {
   "cell_type": "code",
   "execution_count": 35,
   "metadata": {},
   "outputs": [],
   "source": [
    "url_values = \"https://www.transfermarkt.co.uk/laliga/marktwerteverein/wettbewerb/ES1/plus/?stichtag=20{}-02-01\"\n",
    "values_xpath = \"//div[@class='row'] //div[@class='large-8 columns'] //div[@class='box'] //div[@class='responsive-table'] //div[@class='grid-view'] //table[@class='items'] //tbody //tr[@class='{}'] //td[@class='rechts'] //a\"\n",
    "names_css_selector = \"div.row div.large-8.columns div.box div.responsive-table div.grid-view table.items tbody tr.{} td.hauptlink.no-border-links a\"\n",
    "\n",
    "points_names_url = \"https://www.transfermarkt.co.in/laliga/tabelle/wettbewerb/ES1?saison_id=20{}\"\n",
    "points_names_xpath = \"//div[@class='row'] //div[@class='large-8 columns'] //div[@class='box'] //div[@class='responsive-table']  //table //tbody //tr //td[@class='no-border-links hauptlink'] //a\"\n",
    "points_xpath = \"//div[@class='row'] //div[@class='large-8 columns'] //div[@class='box'] //div[@class='responsive-table']  //table //tbody //tr //td[10]\"\n",
    "year = 11"
   ]
  },
  {
   "cell_type": "code",
   "execution_count": 57,
   "metadata": {},
   "outputs": [],
   "source": [
    "points_names_xpath = \"//div[@class='row'] //div[@class='large-8 columns'] //div[@class='box'] //div[@class='responsive-table']  //table //tbody //tr //td[@class='no-border-links hauptlink'] //a\""
   ]
  },
  {
   "cell_type": "code",
   "execution_count": 6,
   "metadata": {},
   "outputs": [],
   "source": [
    "def get_points_names(wd,points_names_xpath):\n",
    "    names = []\n",
    "    rows = wd.find_elements_by_xpath(points_names_xpath)\n",
    "    for row in rows:\n",
    "        names.append(row.text)\n",
    "    \n",
    "    new_names = []\n",
    "    for i in range(len(names)):\n",
    "        if names[i] != \"\":\n",
    "            new_names.append(names[i])\n",
    "\n",
    "    return new_names"
   ]
  },
  {
   "cell_type": "code",
   "execution_count": 70,
   "metadata": {},
   "outputs": [],
   "source": [
    "points_url = \"https://www.transfermarkt.co.in/laliga/tabelle/wettbewerb/ES1?saison_id=20{}\""
   ]
  },
  {
   "cell_type": "code",
   "execution_count": null,
   "metadata": {},
   "outputs": [],
   "source": []
  },
  {
   "cell_type": "code",
   "execution_count": 62,
   "metadata": {},
   "outputs": [],
   "source": [
    "points_xpath = \"//div[@class='row'] //div[@class='large-8 columns'] //div[@class='box'] //div[@class='responsive-table']  //table //tbody //tr //td[10]\""
   ]
  },
  {
   "cell_type": "code",
   "execution_count": 7,
   "metadata": {},
   "outputs": [],
   "source": [
    "def get_points(wd,points_xpath):\n",
    "    points = []\n",
    "    rows = wd.find_elements_by_xpath(points_xpath)\n",
    "    for row in rows:\n",
    "        points.append(row.text)\n",
    "    return points"
   ]
  },
  {
   "cell_type": "code",
   "execution_count": 8,
   "metadata": {},
   "outputs": [],
   "source": [
    "def points_scrape(url,points_names_xpath,points_xpath,year):\n",
    "    wd = start_browser(url.format(year))\n",
    "    points_names = get_points_names(wd,points_names_xpath)\n",
    "    points = get_points(wd,points_xpath)\n",
    "    wd.quit()\n",
    "    return points_names,points"
   ]
  },
  {
   "cell_type": "code",
   "execution_count": 72,
   "metadata": {},
   "outputs": [],
   "source": [
    "points_names,points = points_scrape(points_url,points_names_xpath,points_xpath,10)"
   ]
  },
  {
   "cell_type": "code",
   "execution_count": 73,
   "metadata": {},
   "outputs": [
    {
     "data": {
      "text/plain": [
       "['FC Barcelona',\n",
       " 'Real Madrid',\n",
       " 'Valencia',\n",
       " 'Villarreal',\n",
       " 'Sevilla FC',\n",
       " 'Athletic',\n",
       " 'Atlético Madrid',\n",
       " 'Espanyol',\n",
       " 'CA Osasuna',\n",
       " 'Sporting Gijón',\n",
       " 'Málaga CF',\n",
       " 'Racing',\n",
       " 'Real Zaragoza',\n",
       " 'Real Sociedad',\n",
       " 'Levante',\n",
       " 'Getafe',\n",
       " 'RCD Mallorca',\n",
       " 'Dep. La Coruña',\n",
       " 'Hércules CF',\n",
       " 'UD Almería']"
      ]
     },
     "execution_count": 73,
     "metadata": {},
     "output_type": "execute_result"
    }
   ],
   "source": [
    "points_names"
   ]
  },
  {
   "cell_type": "code",
   "execution_count": 74,
   "metadata": {},
   "outputs": [
    {
     "data": {
      "text/plain": [
       "['96',\n",
       " '92',\n",
       " '71',\n",
       " '62',\n",
       " '58',\n",
       " '58',\n",
       " '58',\n",
       " '49',\n",
       " '47',\n",
       " '47',\n",
       " '46',\n",
       " '46',\n",
       " '45',\n",
       " '45',\n",
       " '45',\n",
       " '44',\n",
       " '44',\n",
       " '43',\n",
       " '35',\n",
       " '30']"
      ]
     },
     "execution_count": 74,
     "metadata": {},
     "output_type": "execute_result"
    }
   ],
   "source": [
    "points"
   ]
  },
  {
   "cell_type": "code",
   "execution_count": 9,
   "metadata": {},
   "outputs": [],
   "source": [
    "values_url = \"https://www.transfermarkt.co.uk/laliga/marktwerteverein/wettbewerb/ES1/plus/?stichtag=20{}-02-01\"\n",
    "values_xpath = \"//div[@class='row'] //div[@class='large-8 columns'] //div[@class='box'] //div[@class='responsive-table'] //div[@class='grid-view'] //table[@class='items'] //tbody //tr[@class='{}'] //td[@class='rechts'] //a\"\n",
    "names_css_selector = \"div.row div.large-8.columns div.box div.responsive-table div.grid-view table.items tbody tr.{} td.hauptlink.no-border-links a\"\n",
    "\n",
    "points_url = \"https://www.transfermarkt.co.in/laliga/tabelle/wettbewerb/ES1?saison_id=20{}\"\n",
    "points_names_xpath = \"//div[@class='row'] //div[@class='large-8 columns'] //div[@class='box'] //div[@class='responsive-table']  //table //tbody //tr //td[@class='no-border-links hauptlink'] //a\"\n",
    "points_xpath = \"//div[@class='row'] //div[@class='large-8 columns'] //div[@class='box'] //div[@class='responsive-table']  //table //tbody //tr //td[10]\"\n",
    "year = 11"
   ]
  },
  {
   "cell_type": "code",
   "execution_count": 10,
   "metadata": {},
   "outputs": [],
   "source": [
    "def scrape(points_url,points_names_xpath,points_xpath,year,values_url,names_css_selector,values_xpath):\n",
    "    values_names, values = values_scrape(values_url,names_css_selector,values_xpath,year)\n",
    "    points_names, points = points_scrape(points_url,points_names_xpath,points_xpath,year-1)\n",
    "    \n",
    "    df = pd.DataFrame(columns=['Clubs','Values','Points'])\n",
    "    overlap_names = []\n",
    "    overlap_values = []\n",
    "    overlap_points = []\n",
    "    for i in range(len(values_names)):\n",
    "        for n in range(len(points_names)):\n",
    "            if (points_names[n] in values_names[i]) and (values_names[i] not in overlap_names):\n",
    "                overlap_names.append(points_names[n])\n",
    "                overlap_values.append(values[i])\n",
    "                overlap_points.append(points[n])\n",
    "    \n",
    "    df[\"Clubs\"] = overlap_names\n",
    "    df[\"Values\"] = overlap_values\n",
    "    df[\"Points\"] = overlap_points\n",
    "\n",
    "    return df"
   ]
  },
  {
   "cell_type": "code",
   "execution_count": 14,
   "metadata": {},
   "outputs": [],
   "source": [
    "df = scrape(points_url,points_names_xpath,points_xpath,year,values_url,names_css_selector,values_xpath)"
   ]
  },
  {
   "cell_type": "code",
   "execution_count": 96,
   "metadata": {},
   "outputs": [
    {
     "data": {
      "text/plain": [
       "pandas.core.frame.DataFrame"
      ]
     },
     "execution_count": 96,
     "metadata": {},
     "output_type": "execute_result"
    }
   ],
   "source": [
    "type(df)"
   ]
  },
  {
   "cell_type": "code",
   "execution_count": 16,
   "metadata": {},
   "outputs": [
    {
     "data": {
      "text/html": [
       "<div>\n",
       "<style scoped>\n",
       "    .dataframe tbody tr th:only-of-type {\n",
       "        vertical-align: middle;\n",
       "    }\n",
       "\n",
       "    .dataframe tbody tr th {\n",
       "        vertical-align: top;\n",
       "    }\n",
       "\n",
       "    .dataframe thead th {\n",
       "        text-align: right;\n",
       "    }\n",
       "</style>\n",
       "<table border=\"1\" class=\"dataframe\">\n",
       "  <thead>\n",
       "    <tr style=\"text-align: right;\">\n",
       "      <th></th>\n",
       "      <th>Clubs</th>\n",
       "      <th>Values</th>\n",
       "      <th>Points</th>\n",
       "    </tr>\n",
       "  </thead>\n",
       "  <tbody>\n",
       "    <tr>\n",
       "      <td>0</td>\n",
       "      <td>FC Barcelona</td>\n",
       "      <td>491.04</td>\n",
       "      <td>96</td>\n",
       "    </tr>\n",
       "    <tr>\n",
       "      <td>1</td>\n",
       "      <td>Real Madrid</td>\n",
       "      <td>484.20</td>\n",
       "      <td>92</td>\n",
       "    </tr>\n",
       "    <tr>\n",
       "      <td>2</td>\n",
       "      <td>Real Sociedad</td>\n",
       "      <td>57.69</td>\n",
       "      <td>45</td>\n",
       "    </tr>\n",
       "    <tr>\n",
       "      <td>3</td>\n",
       "      <td>Valencia</td>\n",
       "      <td>153.00</td>\n",
       "      <td>71</td>\n",
       "    </tr>\n",
       "    <tr>\n",
       "      <td>4</td>\n",
       "      <td>Levante</td>\n",
       "      <td>32.94</td>\n",
       "      <td>45</td>\n",
       "    </tr>\n",
       "    <tr>\n",
       "      <td>5</td>\n",
       "      <td>Atlético Madrid</td>\n",
       "      <td>154.35</td>\n",
       "      <td>58</td>\n",
       "    </tr>\n",
       "    <tr>\n",
       "      <td>6</td>\n",
       "      <td>Sevilla FC</td>\n",
       "      <td>160.29</td>\n",
       "      <td>58</td>\n",
       "    </tr>\n",
       "    <tr>\n",
       "      <td>7</td>\n",
       "      <td>Villarreal</td>\n",
       "      <td>124.65</td>\n",
       "      <td>62</td>\n",
       "    </tr>\n",
       "    <tr>\n",
       "      <td>8</td>\n",
       "      <td>Athletic</td>\n",
       "      <td>100.62</td>\n",
       "      <td>58</td>\n",
       "    </tr>\n",
       "    <tr>\n",
       "      <td>9</td>\n",
       "      <td>Getafe</td>\n",
       "      <td>62.73</td>\n",
       "      <td>44</td>\n",
       "    </tr>\n",
       "    <tr>\n",
       "      <td>10</td>\n",
       "      <td>CA Osasuna</td>\n",
       "      <td>46.71</td>\n",
       "      <td>47</td>\n",
       "    </tr>\n",
       "  </tbody>\n",
       "</table>\n",
       "</div>"
      ],
      "text/plain": [
       "              Clubs  Values Points\n",
       "0      FC Barcelona  491.04     96\n",
       "1       Real Madrid  484.20     92\n",
       "2     Real Sociedad   57.69     45\n",
       "3          Valencia  153.00     71\n",
       "4           Levante   32.94     45\n",
       "5   Atlético Madrid  154.35     58\n",
       "6        Sevilla FC  160.29     58\n",
       "7        Villarreal  124.65     62\n",
       "8          Athletic  100.62     58\n",
       "9            Getafe   62.73     44\n",
       "10       CA Osasuna   46.71     47"
      ]
     },
     "execution_count": 16,
     "metadata": {},
     "output_type": "execute_result"
    }
   ],
   "source": [
    "df"
   ]
  },
  {
   "cell_type": "code",
   "execution_count": 19,
   "metadata": {},
   "outputs": [],
   "source": [
    "def write_file(df,year):\n",
    "    csv_file = open(\"C:/Users/syber/Desktop/Python Files/Football Stats Web Scraping/Excel Sheets/20{}.csv\".format(year),mode=\"w\")\n",
    "    df.to_csv(\"C:/Users/syber/Desktop/Python Files/Football Stats Web Scraping/Excel Sheets/20{}.csv\".format(year))\n",
    "    csv_file.close()"
   ]
  },
  {
   "cell_type": "code",
   "execution_count": 21,
   "metadata": {},
   "outputs": [],
   "source": [
    "write_file(df, 11)"
   ]
  },
  {
   "cell_type": "code",
   "execution_count": 20,
   "metadata": {},
   "outputs": [],
   "source": [
    "values_url = \"https://www.transfermarkt.co.uk/laliga/marktwerteverein/wettbewerb/ES1/plus/?stichtag=20{}-02-01\"\n",
    "values_xpath = \"//div[@class='row'] //div[@class='large-8 columns'] //div[@class='box'] //div[@class='responsive-table'] //div[@class='grid-view'] //table[@class='items'] //tbody //tr[@class='{}'] //td[@class='rechts'] //a\"\n",
    "names_css_selector = \"div.row div.large-8.columns div.box div.responsive-table div.grid-view table.items tbody tr.{} td.hauptlink.no-border-links a\"\n",
    "\n",
    "points_url = \"https://www.transfermarkt.co.in/laliga/tabelle/wettbewerb/ES1?saison_id=20{}\"\n",
    "points_names_xpath = \"//div[@class='row'] //div[@class='large-8 columns'] //div[@class='box'] //div[@class='responsive-table']  //table //tbody //tr //td[@class='no-border-links hauptlink'] //a\"\n",
    "points_xpath = \"//div[@class='row'] //div[@class='large-8 columns'] //div[@class='box'] //div[@class='responsive-table']  //table //tbody //tr //td[10]\""
   ]
  },
  {
   "cell_type": "code",
   "execution_count": 23,
   "metadata": {},
   "outputs": [],
   "source": [
    "for year in range(11,21):\n",
    "    df = scrape(points_url,points_names_xpath,points_xpath,year,values_url,names_css_selector,values_xpath)\n",
    "    write_file(df, year)"
   ]
  },
  {
   "cell_type": "code",
   "execution_count": null,
   "metadata": {},
   "outputs": [],
   "source": []
  },
  {
   "cell_type": "code",
   "execution_count": null,
   "metadata": {},
   "outputs": [],
   "source": []
  },
  {
   "cell_type": "code",
   "execution_count": null,
   "metadata": {},
   "outputs": [],
   "source": []
  },
  {
   "cell_type": "code",
   "execution_count": 98,
   "metadata": {},
   "outputs": [],
   "source": [
    "import csv"
   ]
  },
  {
   "cell_type": "code",
   "execution_count": 99,
   "metadata": {},
   "outputs": [],
   "source": [
    "test = open(\"test.csv\",mode=\"w\")"
   ]
  },
  {
   "cell_type": "code",
   "execution_count": 100,
   "metadata": {},
   "outputs": [],
   "source": [
    "test.close()"
   ]
  },
  {
   "cell_type": "code",
   "execution_count": 101,
   "metadata": {},
   "outputs": [],
   "source": [
    "df.to_csv(\"C:/Users/syber/Desktop/Python Files/Football Stats Web Scraping/Excel Sheets/test.csv\")"
   ]
  },
  {
   "cell_type": "code",
   "execution_count": 103,
   "metadata": {},
   "outputs": [
    {
     "data": {
      "text/plain": [
       "0     £491.04m\n",
       "1     £484.20m\n",
       "2      £57.69m\n",
       "3     £153.00m\n",
       "4      £32.94m\n",
       "5     £154.35m\n",
       "6     £160.29m\n",
       "7     £124.65m\n",
       "8     £100.62m\n",
       "9      £62.73m\n",
       "10     £46.71m\n",
       "Name: Values, dtype: object"
      ]
     },
     "execution_count": 103,
     "metadata": {},
     "output_type": "execute_result"
    }
   ],
   "source": [
    "df[\"Values\"]"
   ]
  },
  {
   "cell_type": "code",
   "execution_count": 5,
   "metadata": {},
   "outputs": [
    {
     "data": {
      "text/plain": [
       "['%', 'm', 'e', '1', '0']"
      ]
     },
     "execution_count": 5,
     "metadata": {},
     "output_type": "execute_result"
    }
   ],
   "source": [
    "val = \"%me10\"\n",
    "list(val)"
   ]
  },
  {
   "cell_type": "code",
   "execution_count": 23,
   "metadata": {},
   "outputs": [],
   "source": [
    "values = [\"$$567\",\"*M765\"]\n",
    "new_values = []\n",
    "for val in values:\n",
    "    lst_val = list(val)\n",
    "    new_lst_val = []\n",
    "    for i in range(len(lst_val)):\n",
    "        try:\n",
    "            int(lst_val[i])\n",
    "            new_lst_val.append(lst_val[i])\n",
    "        except ValueError:\n",
    "            pass\n",
    "        new_lst_val.append(lst_val[i])\n",
    "    new_values.append( "
   ]
  },
  {
   "cell_type": "code",
   "execution_count": 24,
   "metadata": {},
   "outputs": [
    {
     "data": {
      "text/plain": [
       "['$$567', '*M765']"
      ]
     },
     "execution_count": 24,
     "metadata": {},
     "output_type": "execute_result"
    }
   ],
   "source": [
    "values"
   ]
  },
  {
   "cell_type": "code",
   "execution_count": 26,
   "metadata": {},
   "outputs": [],
   "source": [
    "n = [\"1\",'2']"
   ]
  },
  {
   "cell_type": "code",
   "execution_count": null,
   "metadata": {},
   "outputs": [],
   "source": []
  },
  {
   "cell_type": "code",
   "execution_count": 30,
   "metadata": {},
   "outputs": [
    {
     "name": "stdout",
     "output_type": "stream",
     "text": [
      "0\n",
      "1\n"
     ]
    }
   ],
   "source": [
    "for x in range(len(n)):\n",
    "    print(x)"
   ]
  },
  {
   "cell_type": "code",
   "execution_count": 32,
   "metadata": {},
   "outputs": [
    {
     "data": {
      "text/plain": [
       "['45.3']"
      ]
     },
     "execution_count": 32,
     "metadata": {},
     "output_type": "execute_result"
    }
   ],
   "source": [
    "values = [\"£45.3m\"]\n",
    "new_values = []\n",
    "for val in values:\n",
    "    lst_val = list(val)\n",
    "    new_lst_val = []\n",
    "    for digit in lst_val:\n",
    "        if digit != '£' and digit != 'm':\n",
    "            new_lst_val.append(digit)\n",
    "    new_values.append(\"\".join(new_lst_val))\n",
    "\n",
    "new_values"
   ]
  },
  {
   "cell_type": "code",
   "execution_count": 16,
   "metadata": {},
   "outputs": [
    {
     "data": {
      "text/plain": [
       "['s', 'f', 'r', '4']"
      ]
     },
     "execution_count": 16,
     "metadata": {},
     "output_type": "execute_result"
    }
   ],
   "source": [
    "s = \"sfr4\"\n",
    "list(s)"
   ]
  },
  {
   "cell_type": "code",
   "execution_count": 20,
   "metadata": {},
   "outputs": [
    {
     "data": {
      "text/plain": [
       "['4', '9', '5', '.', '5', '0', 'm']"
      ]
     },
     "execution_count": 20,
     "metadata": {},
     "output_type": "execute_result"
    }
   ],
   "source": [
    "list(new_values[0])"
   ]
  },
  {
   "cell_type": "code",
   "execution_count": 41,
   "metadata": {},
   "outputs": [],
   "source": [
    "points_names, points = points_scrape(points_url, points_names_xpath, points_xpath, 10)"
   ]
  },
  {
   "cell_type": "code",
   "execution_count": 42,
   "metadata": {},
   "outputs": [
    {
     "data": {
      "text/plain": [
       "23"
      ]
     },
     "execution_count": 42,
     "metadata": {},
     "output_type": "execute_result"
    }
   ],
   "source": [
    "len(points_names)"
   ]
  },
  {
   "cell_type": "code",
   "execution_count": 47,
   "metadata": {},
   "outputs": [],
   "source": [
    "values_names, values = values_scrape(values_url, names_css_selector, values_xpath, 11)"
   ]
  },
  {
   "cell_type": "code",
   "execution_count": 48,
   "metadata": {},
   "outputs": [
    {
     "data": {
      "text/plain": [
       "20"
      ]
     },
     "execution_count": 48,
     "metadata": {},
     "output_type": "execute_result"
    }
   ],
   "source": [
    "len(values_names)"
   ]
  },
  {
   "cell_type": "code",
   "execution_count": 13,
   "metadata": {},
   "outputs": [],
   "source": [
    "points_names, points = points_scrape(points_url, points_names_xpath, points_xpath, 10)"
   ]
  },
  {
   "cell_type": "code",
   "execution_count": 14,
   "metadata": {},
   "outputs": [],
   "source": [
    "wd = start_browser(points_url)"
   ]
  },
  {
   "cell_type": "code",
   "execution_count": 15,
   "metadata": {},
   "outputs": [
    {
     "ename": "IndexError",
     "evalue": "list index out of range",
     "output_type": "error",
     "traceback": [
      "\u001b[1;31m---------------------------------------------------------------------------\u001b[0m",
      "\u001b[1;31mIndexError\u001b[0m                                Traceback (most recent call last)",
      "\u001b[1;32m<ipython-input-15-2a5e332e6caf>\u001b[0m in \u001b[0;36m<module>\u001b[1;34m\u001b[0m\n\u001b[1;32m----> 1\u001b[1;33m \u001b[0mget_points_names\u001b[0m\u001b[1;33m(\u001b[0m\u001b[0mwd\u001b[0m\u001b[1;33m,\u001b[0m\u001b[0mpoints_names_xpath\u001b[0m\u001b[1;33m)\u001b[0m\u001b[1;33m\u001b[0m\u001b[1;33m\u001b[0m\u001b[0m\n\u001b[0m",
      "\u001b[1;32m<ipython-input-6-572054950dae>\u001b[0m in \u001b[0;36mget_points_names\u001b[1;34m(wd, points_names_xpath)\u001b[0m\n\u001b[0;32m      6\u001b[0m \u001b[1;33m\u001b[0m\u001b[0m\n\u001b[0;32m      7\u001b[0m     \u001b[1;32mfor\u001b[0m \u001b[0mi\u001b[0m \u001b[1;32min\u001b[0m \u001b[0mrange\u001b[0m\u001b[1;33m(\u001b[0m\u001b[0mlen\u001b[0m\u001b[1;33m(\u001b[0m\u001b[0mnames\u001b[0m\u001b[1;33m)\u001b[0m\u001b[1;33m)\u001b[0m\u001b[1;33m:\u001b[0m\u001b[1;33m\u001b[0m\u001b[1;33m\u001b[0m\u001b[0m\n\u001b[1;32m----> 8\u001b[1;33m         \u001b[1;32mif\u001b[0m \u001b[0mnames\u001b[0m\u001b[1;33m[\u001b[0m\u001b[0mi\u001b[0m\u001b[1;33m]\u001b[0m \u001b[1;33m==\u001b[0m \u001b[1;34m\"\"\u001b[0m\u001b[1;33m:\u001b[0m\u001b[1;33m\u001b[0m\u001b[1;33m\u001b[0m\u001b[0m\n\u001b[0m\u001b[0;32m      9\u001b[0m             \u001b[0mnames\u001b[0m\u001b[1;33m.\u001b[0m\u001b[0mpop\u001b[0m\u001b[1;33m(\u001b[0m\u001b[0mi\u001b[0m\u001b[1;33m)\u001b[0m\u001b[1;33m\u001b[0m\u001b[1;33m\u001b[0m\u001b[0m\n\u001b[0;32m     10\u001b[0m \u001b[1;33m\u001b[0m\u001b[0m\n",
      "\u001b[1;31mIndexError\u001b[0m: list index out of range"
     ]
    }
   ],
   "source": [
    "get_points_names(wd,points_names_xpath)"
   ]
  },
  {
   "cell_type": "code",
   "execution_count": 24,
   "metadata": {},
   "outputs": [
    {
     "data": {
      "text/plain": [
       "['Atlético Madrid',\n",
       " 'FC Barcelona',\n",
       " 'Real Madrid',\n",
       " '',\n",
       " 'Sevilla FC',\n",
       " '',\n",
       " 'Real Sociedad',\n",
       " 'Real Betis',\n",
       " 'Villarreal',\n",
       " 'Granada CF',\n",
       " 'Athletic',\n",
       " 'Levante',\n",
       " 'Celta de Vigo',\n",
       " 'Valencia',\n",
       " 'CA Osasuna',\n",
       " 'Getafe',\n",
       " 'Cádiz CF',\n",
       " 'Real Valladolid',\n",
       " 'Elche CF',\n",
       " 'SD Eibar',\n",
       " 'Alavés',\n",
       " 'SD Huesca']"
      ]
     },
     "execution_count": 24,
     "metadata": {},
     "output_type": "execute_result"
    }
   ],
   "source": [
    "names = []\n",
    "rows = wd.find_elements_by_xpath(points_names_xpath)\n",
    "for row in rows:\n",
    "    names.append(row.text)\n",
    "\n",
    "new_names = []\n",
    "for i in range(len(names)):\n",
    "    if names[i] != \"\":\n",
    "        new_names.append(names[i])\n",
    "\n",
    "names"
   ]
  },
  {
   "cell_type": "code",
   "execution_count": 26,
   "metadata": {},
   "outputs": [
    {
     "data": {
      "text/plain": [
       "22"
      ]
     },
     "execution_count": 26,
     "metadata": {},
     "output_type": "execute_result"
    }
   ],
   "source": [
    "len(names)"
   ]
  },
  {
   "cell_type": "code",
   "execution_count": 22,
   "metadata": {},
   "outputs": [
    {
     "data": {
      "text/plain": [
       "''"
      ]
     },
     "execution_count": 22,
     "metadata": {},
     "output_type": "execute_result"
    }
   ],
   "source": [
    "names.pop(3)"
   ]
  },
  {
   "cell_type": "code",
   "execution_count": 23,
   "metadata": {},
   "outputs": [
    {
     "data": {
      "text/plain": [
       "['Atlético Madrid',\n",
       " 'FC Barcelona',\n",
       " 'Real Madrid',\n",
       " 'Sevilla FC',\n",
       " '',\n",
       " 'Real Sociedad',\n",
       " 'Real Betis',\n",
       " 'Villarreal',\n",
       " 'Granada CF',\n",
       " 'Athletic',\n",
       " 'Levante',\n",
       " 'Celta de Vigo',\n",
       " 'Valencia',\n",
       " 'CA Osasuna',\n",
       " 'Getafe',\n",
       " 'Cádiz CF',\n",
       " 'Real Valladolid',\n",
       " 'Elche CF',\n",
       " 'SD Eibar',\n",
       " 'Alavés',\n",
       " 'SD Huesca']"
      ]
     },
     "execution_count": 23,
     "metadata": {},
     "output_type": "execute_result"
    }
   ],
   "source": [
    "names"
   ]
  },
  {
   "cell_type": "code",
   "execution_count": null,
   "metadata": {},
   "outputs": [],
   "source": []
  },
  {
   "cell_type": "code",
   "execution_count": null,
   "metadata": {},
   "outputs": [],
   "source": []
  },
  {
   "cell_type": "code",
   "execution_count": null,
   "metadata": {},
   "outputs": [],
   "source": []
  },
  {
   "cell_type": "code",
   "execution_count": null,
   "metadata": {},
   "outputs": [],
   "source": []
  },
  {
   "cell_type": "code",
   "execution_count": null,
   "metadata": {},
   "outputs": [],
   "source": []
  },
  {
   "cell_type": "code",
   "execution_count": null,
   "metadata": {},
   "outputs": [],
   "source": []
  },
  {
   "cell_type": "code",
   "execution_count": null,
   "metadata": {},
   "outputs": [],
   "source": []
  },
  {
   "cell_type": "code",
   "execution_count": null,
   "metadata": {},
   "outputs": [],
   "source": []
  },
  {
   "cell_type": "code",
   "execution_count": null,
   "metadata": {},
   "outputs": [],
   "source": []
  },
  {
   "cell_type": "code",
   "execution_count": null,
   "metadata": {},
   "outputs": [],
   "source": []
  },
  {
   "cell_type": "code",
   "execution_count": null,
   "metadata": {},
   "outputs": [],
   "source": []
  },
  {
   "cell_type": "code",
   "execution_count": 22,
   "metadata": {},
   "outputs": [],
   "source": [
    "import selenium\n",
    "from selenium import webdriver\n",
    "import pandas as pd\n",
    "import time\n",
    "\n",
    "values_url = \"https://www.transfermarkt.co.uk/laliga/marktwerteverein/wettbewerb/ES1/plus/?stichtag=20{}-02-01\"\n",
    "values_xpath = \"//div[@class='row'] //div[@class='large-8 columns'] //div[@class='box'] //div[@class='responsive-table'] //div[@class='grid-view'] //table[@class='items'] //tbody //tr[@class='{}'] //td[@class='rechts'] //a\"\n",
    "names_css_selector = \"div.row div.large-8.columns div.box div.responsive-table div.grid-view table.items tbody tr.{} td.hauptlink.no-border-links a\"\n",
    "\n",
    "points_url = \"https://www.transfermarkt.co.in/laliga/tabelle/wettbewerb/ES1?saison_id=20{}\"\n",
    "points_names_xpath = \"//div[@class='row'] //div[@class='large-8 columns'] //div[@class='box'] //div[@class='responsive-table']  //table //tbody //tr //td[@class='no-border-links hauptlink'] //a\"\n",
    "points_xpath = \"//div[@class='row'] //div[@class='large-8 columns'] //div[@class='box'] //div[@class='responsive-table']  //table //tbody //tr //td[10]\"\n",
    "\n",
    "def start_browser(url):\n",
    "    DRIVER_PATH = \"C:/Users\\syber\\Desktop\\Python Files\\Football Stats Web Scraping\\chromedriver_win32\\chromedriver.exe\"\n",
    "    wd = webdriver.Chrome(executable_path=DRIVER_PATH)\n",
    "    wd.get(str(url))\n",
    "    return wd\n",
    "\n",
    "def get_names(wd,names_css_selector):\n",
    "    names = []\n",
    "    for s in ['odd','even']:\n",
    "        rows = wd.find_elements_by_css_selector(names_css_selector.format(s))\n",
    "        for row in rows:\n",
    "            names.append(row.text)\n",
    "    \n",
    "    new_names = []\n",
    "    for i in range(len(names)):\n",
    "        if names[i] != \"\":\n",
    "            new_names.append(names[i])\n",
    "\n",
    "    return new_names\n",
    "\n",
    "def get_values(wd,values_xpath):\n",
    "    values = []\n",
    "    for s in ['odd','even']:\n",
    "        rows = wd.find_elements_by_xpath(values_xpath.format(s))\n",
    "        for row in rows:\n",
    "            values.append(row.text)\n",
    "    \n",
    "    new_values = []\n",
    "    for val in values:\n",
    "        lst_val = list(val)\n",
    "        new_lst_val = []\n",
    "        for digit in lst_val:\n",
    "            if digit != '£' and digit != 'm':\n",
    "                new_lst_val.append(digit)\n",
    "        new_values.append(\"\".join(new_lst_val))\n",
    "    \n",
    "    return new_values\n",
    "\n",
    "def values_scrape(url,names_css_selector,values_xpath,year):\n",
    "    wd = start_browser(url.format(year))\n",
    "    names = get_names(wd,names_css_selector)\n",
    "    values = get_values(wd,values_xpath)\n",
    "    wd.quit()\n",
    "        \n",
    "    return names,values\n",
    "\n",
    "def get_points_names(wd,points_names_xpath):\n",
    "    names = []\n",
    "    rows = wd.find_elements_by_xpath(points_names_xpath)\n",
    "    for row in rows:\n",
    "        names.append(row.text)\n",
    "    \n",
    "    new_names = []\n",
    "    for i in range(len(names)):\n",
    "        if names[i] != \"\":\n",
    "            new_names.append(names[i])\n",
    "\n",
    "    return new_names\n",
    "\n",
    "def get_points(wd,points_xpath):\n",
    "    points = []\n",
    "    rows = wd.find_elements_by_xpath(points_xpath)\n",
    "    for row in rows:\n",
    "        points.append(row.text)\n",
    "    return points\n",
    "\n",
    "def points_scrape(url,points_names_xpath,points_xpath,year):\n",
    "    wd = start_browser(url.format(year))\n",
    "    points_names = get_points_names(wd,points_names_xpath)\n",
    "    points = get_points(wd,points_xpath)\n",
    "    wd.quit()\n",
    "    return points_names,points\n",
    "\n",
    "def scrape(points_url,points_names_xpath,points_xpath,year,values_url,names_css_selector,values_xpath):\n",
    "    values_names, values = values_scrape(values_url,names_css_selector,values_xpath,year)\n",
    "    points_names, points = points_scrape(points_url,points_names_xpath,points_xpath,year-1)\n",
    "    \n",
    "    df = pd.DataFrame(columns=['Clubs','Values','Points'])\n",
    "    overlap_names = []\n",
    "    overlap_values = []\n",
    "    overlap_points = []\n",
    "    for i in range(len(values_names)):\n",
    "        for n in range(len(points_names)):\n",
    "            if (points_names[n] in values_names[i]) and (values_names[i] not in overlap_names):\n",
    "                overlap_names.append(points_names[n])\n",
    "                overlap_values.append(values[i])\n",
    "                overlap_points.append(points[n])\n",
    "    \n",
    "    df[\"Clubs\"] = overlap_names\n",
    "    df[\"Values\"] = overlap_values\n",
    "    df[\"Points\"] = overlap_points\n",
    "\n",
    "    return df\n",
    "\n",
    "def write_file(df,year):\n",
    "    csv_file = open(\"C:/Users/syber/Desktop/Python Files/Football Stats Web Scraping/Excel Sheets/20{}.csv\".format(year),mode=\"w\")\n",
    "    df.to_csv(\"C:/Users/syber/Desktop/Python Files/Football Stats Web Scraping/Excel Sheets/20{}.csv\".format(year))\n",
    "    csv_file.close()\n"
   ]
  },
  {
   "cell_type": "code",
   "execution_count": null,
   "metadata": {},
   "outputs": [],
   "source": [
    "for year in range(11,21):\n",
    "    df = scrape(points_url,points_names_xpath,points_xpath,year,values_url,names_css_selector,values_xpath)\n",
    "    write_file(df, year)"
   ]
  }
 ],
 "metadata": {
  "kernelspec": {
   "display_name": "Python 3",
   "language": "python",
   "name": "python3"
  },
  "language_info": {
   "codemirror_mode": {
    "name": "ipython",
    "version": 3
   },
   "file_extension": ".py",
   "mimetype": "text/x-python",
   "name": "python",
   "nbconvert_exporter": "python",
   "pygments_lexer": "ipython3",
   "version": "3.7.4"
  }
 },
 "nbformat": 4,
 "nbformat_minor": 2
}
